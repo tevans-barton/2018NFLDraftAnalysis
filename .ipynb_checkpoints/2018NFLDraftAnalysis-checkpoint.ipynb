{
 "cells": [
  {
   "cell_type": "markdown",
   "metadata": {},
   "source": [
    "# 2018 NFL Draft Analysis"
   ]
  },
  {
   "cell_type": "markdown",
   "metadata": {},
   "source": [
    "## Introduction\n",
    "The goal of this project is to do an exploratory analysis on what traits in College Football Players are most associated with success at the next level, and then project the careers of this year's current draft class."
   ]
  },
  {
   "cell_type": "code",
   "execution_count": 6,
   "metadata": {
    "collapsed": true
   },
   "outputs": [],
   "source": [
    "%matplotlib inline\n",
    "\n",
    "import numpy as np\n",
    "import pandas as pd\n",
    "import matplotlib.pyplot as plt"
   ]
  },
  {
   "cell_type": "markdown",
   "metadata": {},
   "source": [
    "## Reading in Data\n",
    "First I am going to read in CSVs containing information from this year's combine, the previous 17 years' combines, and the last 17 years' ProBowls. All data is courtesy of Pro Football Reference."
   ]
  },
  {
   "cell_type": "code",
   "execution_count": 27,
   "metadata": {},
   "outputs": [],
   "source": [
    "CB2018DF = pd.read_csv(\"./CSVs/CB2018Combine\") #Need to clean out the links and unused columns\n",
    "CBHistoryDF = pd.read_csv(\"./CSVs/PastCornersCombine\")\n",
    "TempCBProBowlDF = pd.read_csv('./CSVs/CBProBowls')\n",
    "#CBProBowlDf = TempCBProBowlDF.groupby('Name').count()"
   ]
  },
  {
   "cell_type": "code",
   "execution_count": null,
   "metadata": {
    "collapsed": true
   },
   "outputs": [],
   "source": []
  }
 ],
 "metadata": {
  "kernelspec": {
   "display_name": "Python 3",
   "language": "python",
   "name": "python3"
  },
  "language_info": {
   "codemirror_mode": {
    "name": "ipython",
    "version": 3
   },
   "file_extension": ".py",
   "mimetype": "text/x-python",
   "name": "python",
   "nbconvert_exporter": "python",
   "pygments_lexer": "ipython3",
   "version": "3.6.3"
  }
 },
 "nbformat": 4,
 "nbformat_minor": 2
}
